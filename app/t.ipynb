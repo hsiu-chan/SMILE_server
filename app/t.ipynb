{
 "cells": [
  {
   "cell_type": "code",
   "execution_count": 10,
   "metadata": {},
   "outputs": [],
   "source": [
    "from ultralytics import YOLO\n",
    "import matplotlib.pyplot as plt\n",
    "\n",
    "import cv2\n",
    "import mediapipe as mp\n",
    "import os\n",
    "import numpy as np\n",
    "from config import OUTPUT_FOLDER, MODEL_PATH\n",
    "from lib.ToothClassifier import ToothClassifier,FDI_MAP\n",
    "\n",
    "\n",
    "Model = YOLO(MODEL_PATH)\n",
    "mp_face_detection = mp.solutions.face_detection\n",
    "mp_face_mesh = mp.solutions.face_mesh\n",
    "face_mesh=mp_face_mesh.FaceMesh(\n",
    "            min_detection_confidence=0.2,\n",
    "            min_tracking_confidence=0.2)\n",
    "\n",
    "\n",
    "mouse=[62,96,89,179,86,15,316,403,319,325,292,407,272,271,268,12,38,41,42,183]#嘴巴\n",
    "lip=[78,95,88,178,87,14,317,402,318,324,308,415,310,311,312,13,82,81,80,191]#嘴唇\n",
    "mid_line = [10,9,8,6,5,4,1,0]# 中線\n",
    "\n",
    "class SMILE:\n",
    "    def __init__(self,input_path, device='cpu',filter=0.9):\n",
    "        self.device=device\n",
    "        #####Input/output#####\n",
    "        self.input_path=input_path \n",
    "\n",
    "        self.output_path=f\"{OUTPUT_FOLDER}output.jpeg\" \n",
    "        \"\"\"圖片輸出路徑\"\"\"\n",
    "\n",
    "\n",
    "\n",
    "        #####Image normalize#####\n",
    "        img=cv2.imread(input_path)\n",
    "        h, w ,d= img.shape\n",
    "        self.img=cv2.resize(img, (1024, int(1024*h/w)), interpolation=cv2.INTER_AREA)\n",
    "        self.shape=self.img.shape\n",
    "        \"\"\"原圖shape\"\"\"\n",
    "\n",
    "        #####Find mouse#####\n",
    "        self.mouse=[]\n",
    "        self.box=[]\n",
    "        \"\"\"嘴巴Box\"\"\"\n",
    "        self.boximg=[]\n",
    "        \"\"\"裁切只保留嘴巴img\"\"\"\n",
    "        self.box_pol=[]\n",
    "        \"\"\"boximg切割的座標\"\"\"\n",
    "\n",
    "        self.rotation_matrix=[]\n",
    "        \"\"\"旋轉矩陣\"\"\"\n",
    "        self.rotated_img=''\n",
    "        \"\"\"轉完的矩陣\"\"\"\n",
    "        \n",
    "\n",
    "\n",
    "        #####Result#####\n",
    "        self.filter=filter\n",
    "        self.tooth=[]\n",
    "        \"\"\"\n",
    "        [center_x,center_y,w,h]\n",
    "        \"\"\"\n",
    "        self.tooth_cls=[]\n",
    "        \"\"\"牙齒類別\"\"\"\n",
    "\n",
    "        self.ntooth=0\n",
    "        \"\"\"牙齒數\"\"\"\n",
    "        print('SMILE_init')\n",
    "\n",
    "\n",
    "        #### set_model###\n",
    "\n",
    "\n",
    "        pass\n",
    "\n",
    "\n",
    "    def find_all_tooth(self):\n",
    "        \"\"\"try:\n",
    "            self.find_mouse()\n",
    "            print (f'found mouth')\n",
    "        except:\n",
    "            return False\"\"\"\n",
    "        self.find_mouse()\n",
    "\n",
    "        result = Model.predict(\n",
    "            source=self.output_path,\n",
    "            mode=\"predict\",\n",
    "            device=self.device\n",
    "        )\n",
    "        \n",
    "        \n",
    "\n",
    "\n",
    "\n",
    "        boxes = result[0].boxes\n",
    "        \n",
    "        self.tooth=[]\n",
    "        for box in boxes:\n",
    "            if box.conf[0]>=self.filter:\n",
    "                self.tooth.append(box.xywh.tolist()[0] )\n",
    "\n",
    "\n",
    "\n",
    "        h,w,d=self.boximg.shape\n",
    "\n",
    "        self.tooth_cls=ToothClassifier(w,h,self.tooth).cls\n",
    "\n",
    "        self.ntooth=len(self.tooth_cls)\n",
    "\n",
    "\n",
    "        \n",
    "        # OUTPUT\n",
    "        currentAxis = plt.gca()\n",
    "        img=plt.imread(self.output_path)\n",
    "        plt.imshow(img)\n",
    "\n",
    "        colors=plt.cm.hsv(np.linspace(0, 1, self.ntooth)).tolist()   \n",
    "\n",
    "\n",
    "        for t, cl,c in zip(self.tooth, self.tooth_cls,colors):\n",
    "            x,y,w,h=tuple(t)\n",
    "            \n",
    "            currentAxis.text(x,y, FDI_MAP[cl],bbox={'facecolor': c, 'alpha': 0.5})\n",
    "            currentAxis.add_patch(plt.Rectangle((x-w/2,y-h/2),w,h,fill=False,edgecolor=c,linewidth=2))\n",
    "\n",
    "\n",
    "        plt.axis('off')        \n",
    "        plt.savefig(self.output_path,bbox_inches='tight',pad_inches=0.0, dpi=200)\n",
    "        #plt.show()\n",
    "        plt.clf()\n",
    "        print('img_out')\n",
    "        return True\n",
    "\n",
    "\n",
    "    \n",
    "    \n",
    "    def find_mouse(self): # 裁切嘴巴區域，存到 output_path\n",
    "        h, w, d = self.img.shape\n",
    "        \n",
    "    \n",
    "        \n",
    "    \n",
    "        #########################openCV辨識嘴 #########################\n",
    "        RGBim = cv2.cvtColor(self.img, cv2.COLOR_BGR2RGB)\n",
    "        results = face_mesh.process(RGBim)\n",
    "\n",
    "        \n",
    "        ## 取得臉中線\n",
    "        midline_x=[]\n",
    "        midline_y=[]\n",
    "\n",
    "        if results.multi_face_landmarks:\n",
    "            for face_landmarks in  results.multi_face_landmarks:\n",
    "                for index in mid_line:\n",
    "                    midline_x.append(int(face_landmarks.landmark[index].x * w))\n",
    "                    midline_y.append(int(face_landmarks.landmark[index].y * h))\n",
    "\n",
    "        self.get_rotate_matrix(midline_x,midline_y)\n",
    "\n",
    "        self.rotated_img = cv2.warpAffine(self.img, self.rotation_matrix[:2], (w, h), flags=cv2.INTER_LINEAR)\n",
    "\n",
    "        \n",
    "        ## 辨識\n",
    "\n",
    "        if results.multi_face_landmarks:\n",
    "            for face_landmarks in results.multi_face_landmarks:\n",
    "                #for index in mouse:\n",
    "                for index in lip:\n",
    "                    x = int(face_landmarks.landmark[index].x * w)\n",
    "                    y = int(face_landmarks.landmark[index].y * h)\n",
    "                    roxy=np.dot(self.rotation_matrix,[[x],[y],[1]])\n",
    "                    self.mouse.append([x,y])\n",
    "                    #self.mouse.append([\n",
    "                    #    int(roxy[0]),\n",
    "                    #    int(roxy[1])\n",
    "                    #])\n",
    "                \n",
    "\n",
    "        \n",
    "        \n",
    "\n",
    "        self.mouse=np.array(self.mouse)\n",
    "\n",
    "        umos=min(self.mouse[:,1])#嘴上緣\n",
    "        dmos=max(self.mouse[:,1])#嘴下緣\n",
    "        lmos=min(self.mouse[:,0])#嘴左緣\n",
    "        rmos=max(self.mouse[:,0])#嘴右緣\n",
    "        wmos=rmos-lmos#嘴寬\n",
    "        hmos=dmos-umos#嘴高\n",
    "        mmos=[int((lmos+rmos)/2),int((umos+dmos)/2)]#嘴中心\n",
    "\n",
    "        \n",
    "        \n",
    "        ######輸出#####\n",
    "        self.box=np.array([lmos,rmos,umos,dmos])\n",
    "\n",
    "    \n",
    "\n",
    "        self.boximg=self.rotated_img[self.box[2]-5:self.box[3]+5,self.box[0]-5:self.box[1]+5]\n",
    "        \n",
    "\n",
    "\n",
    "        self.box_pol=[self.box[0]-5,self.box[2]-5]\n",
    "\n",
    "\n",
    "\n",
    "        cv2.imwrite(self.output_path,self.boximg)\n",
    "\n",
    "        return self.box\n",
    "    \n",
    "    def get_rotate_matrix(self,x,y):\n",
    "        A = np.vstack([x, np.ones(len(x))]).T\n",
    "        m, c = np.linalg.lstsq(A, y, rcond=None)[0]\n",
    "        m=np.abs(m)\n",
    "        print(f'{m=}')\n",
    "\n",
    "            ## 回歸直線\n",
    "        w,h,d=self.shape\n",
    "\n",
    "        cy,cx= w/2, h/2\n",
    "\n",
    "        t1=np.array([[1,0,-cx],\n",
    "                    [0,1,-cy],\n",
    "                    [0,0,1]])\n",
    "        lenth = np.sqrt(1+m*m)\n",
    "\n",
    "        r=np.array([[m,-1,0],\n",
    "            [1,m,0],\n",
    "            [0,0,lenth]])/lenth\n",
    "        \n",
    "        t2=np.array([[1,0,cx],\n",
    "                    [0,1,cy],\n",
    "                    [0,0,1]])\n",
    "\n",
    "        self.rotation_matrix = np.dot(t2,np.dot(r, t1))\n"
   ]
  },
  {
   "cell_type": "code",
   "execution_count": 5,
   "metadata": {},
   "outputs": [
    {
     "name": "stdout",
     "output_type": "stream",
     "text": [
      "SMILE_init\n",
      "臉中線斜率m=11.392190152801335\n",
      "found mouth\n",
      "\n",
      "image 1/1 c:\\gits\\SMILE_server\\app\\outputs\\output.png: 160x640 1 0, 12 tooths, 120.1ms\n",
      "Speed: 1.0ms preprocess, 120.1ms inference, 0.5ms postprocess per image at shape (1, 3, 160, 640)\n",
      "X=[10, 32, 50, 77, 108, 142, 172, 198, 217, 229, 243, 229, 213, 193, 168, 138, 103, 73, 47, 25],Y=[35, 45, 48, 51, 53, 51, 48, 40, 34, 28, 15, 10, 10, 12, 15, 19, 21, 21, 24, 27]\n",
      "All tooth found and img output\n"
     ]
    },
    {
     "data": {
      "text/plain": [
       "True"
      ]
     },
     "execution_count": 5,
     "metadata": {},
     "output_type": "execute_result"
    },
    {
     "data": {
      "text/plain": [
       "<Figure size 640x480 with 0 Axes>"
      ]
     },
     "metadata": {},
     "output_type": "display_data"
    }
   ],
   "source": [
    "from lib.Smile import SMILE\n",
    "smile=SMILE('C:/gits/SMILE_tmp/app/TrainData/data/00013.png')\n",
    "smile.find_all_tooth()"
   ]
  },
  {
   "cell_type": "code",
   "execution_count": 6,
   "metadata": {},
   "outputs": [
    {
     "data": {
      "text/plain": [
       "array([[    0.99617,    0.087443,      -42.81],\n",
       "       [  -0.087443,     0.99617,      46.732],\n",
       "       [          0,           0,           1]])"
      ]
     },
     "execution_count": 6,
     "metadata": {},
     "output_type": "execute_result"
    }
   ],
   "source": [
    "smile.rotation_matrix"
   ]
  },
  {
   "cell_type": "code",
   "execution_count": 7,
   "metadata": {},
   "outputs": [
    {
     "data": {
      "text/plain": [
       "<matplotlib.image.AxesImage at 0x20963270670>"
      ]
     },
     "execution_count": 7,
     "metadata": {},
     "output_type": "execute_result"
    },
    {
     "data": {
      "image/png": "[encoded data removed]",
      "text/plain": [
       "<Figure size 640x480 with 1 Axes>"
      ]
     },
     "metadata": {},
     "output_type": "display_data"
    }
   ],
   "source": [
    "import matplotlib.pyplot as plt\n",
    "plt.imshow(plt.imread(smile.output_path))"
   ]
  },
  {
   "cell_type": "code",
   "execution_count": 66,
   "metadata": {},
   "outputs": [
    {
     "data": {
      "text/plain": [
       "array([390, 645, 720, 790])"
      ]
     },
     "execution_count": 66,
     "metadata": {},
     "output_type": "execute_result"
    }
   ],
   "source": [
    "smile.box"
   ]
  },
  {
   "cell_type": "code",
   "execution_count": 21,
   "metadata": {},
   "outputs": [
    {
     "data": {
      "text/plain": [
       "array([[    -106.88],\n",
       "       [     234.38],\n",
       "       [   0.050388]])"
      ]
     },
     "execution_count": 21,
     "metadata": {},
     "output_type": "execute_result"
    }
   ],
   "source": [
    "np.dot(smile.rotation_matrix,[[390],[727],[1]])"
   ]
  },
  {
   "cell_type": "code",
   "execution_count": 73,
   "metadata": {},
   "outputs": [
    {
     "data": {
      "text/plain": [
       "array([[ 63, 186,   0],\n",
       "       [169, 221, 133],\n",
       "       [206, 182, 250],\n",
       "       ...,\n",
       "       [112, 125, 242],\n",
       "       [ 29,  78, 138],\n",
       "       [ 91, 106, 139]], dtype=uint8)"
      ]
     },
     "execution_count": 73,
     "metadata": {},
     "output_type": "execute_result"
    }
   ],
   "source": [
    "sum(smile.rotated_img)"
   ]
  },
  {
   "cell_type": "code",
   "execution_count": 61,
   "metadata": {},
   "outputs": [],
   "source": [
    "cy,cx= 512, 512\n",
    "m=19\n",
    "\n",
    "t1=np.array([[1,0,-cx],\n",
    "            [0,1,-cy],\n",
    "            [0,0,1]])\n",
    "\n",
    "lenth = np.sqrt(1+m*m)\n",
    "r=np.array([[m,-1,0],\n",
    "            [1,m,0],\n",
    "            [0,0,lenth]])/lenth\n",
    "\n",
    "t2=np.array([[1,0,cx],\n",
    "            [0,1,cy],\n",
    "            [0,0,1]])\n",
    "\n",
    "\n",
    "mm=np.dot(r, t1)\n",
    "\n",
    "final = np.dot(t2,mm)\n",
    "#print(f'{t1=},{r=},{t2=}')\n"
   ]
  },
  {
   "cell_type": "code",
   "execution_count": 82,
   "metadata": {},
   "outputs": [
    {
     "data": {
      "text/plain": [
       "[[690.1488647460938,\n",
       "  111.19297790527344,\n",
       "  106.5140380859375,\n",
       "  176.31802368164062]]"
      ]
     },
     "execution_count": 82,
     "metadata": {},
     "output_type": "execute_result"
    }
   ],
   "source": [
    "smile.tooth"
   ]
  },
  {
   "cell_type": "code",
   "execution_count": 6,
   "metadata": {},
   "outputs": [],
   "source": [
    "dct={1:20}\n",
    "a=[1,2,3]\n",
    "\n",
    "b=[dct[i] if i in dct else -1  for i in a ]"
   ]
  },
  {
   "cell_type": "code",
   "execution_count": 2,
   "metadata": {},
   "outputs": [],
   "source": [
    "from requests_toolbelt.multipart.encoder import MultipartEncoder\n"
   ]
  },
  {
   "cell_type": "code",
   "execution_count": 1,
   "metadata": {},
   "outputs": [
    {
     "name": "stdout",
     "output_type": "stream",
     "text": [
      "Collecting requests-toolbelt\n",
      "  Downloading requests_toolbelt-1.0.0-py2.py3-none-any.whl (54 kB)\n",
      "     ---------------------------------------- 0.0/54.5 kB ? eta -:--:--\n",
      "     ---------------------- ----------------- 30.7/54.5 kB 1.3 MB/s eta 0:00:01\n",
      "     -------------------------------------- 54.5/54.5 kB 567.2 kB/s eta 0:00:00\n",
      "Requirement already satisfied: requests<3.0.0,>=2.0.1 in c:\\users\\goode\\anaconda3\\envs\\coding\\lib\\site-packages (from requests-toolbelt) (2.28.2)\n",
      "Requirement already satisfied: urllib3<1.27,>=1.21.1 in c:\\users\\goode\\anaconda3\\envs\\coding\\lib\\site-packages (from requests<3.0.0,>=2.0.1->requests-toolbelt) (1.26.15)\n",
      "Requirement already satisfied: charset-normalizer<4,>=2 in c:\\users\\goode\\anaconda3\\envs\\coding\\lib\\site-packages (from requests<3.0.0,>=2.0.1->requests-toolbelt) (2.1.1)\n",
      "Requirement already satisfied: certifi>=2017.4.17 in c:\\users\\goode\\anaconda3\\envs\\coding\\lib\\site-packages (from requests<3.0.0,>=2.0.1->requests-toolbelt) (2022.12.7)\n",
      "Requirement already satisfied: idna<4,>=2.5 in c:\\users\\goode\\anaconda3\\envs\\coding\\lib\\site-packages (from requests<3.0.0,>=2.0.1->requests-toolbelt) (3.4)\n",
      "Installing collected packages: requests-toolbelt\n",
      "Successfully installed requests-toolbelt-1.0.0\n"
     ]
    },
    {
     "name": "stderr",
     "output_type": "stream",
     "text": [
      "WARNING: Ignoring invalid distribution -rotobuf (c:\\users\\goode\\anaconda3\\envs\\coding\\lib\\site-packages)\n",
      "WARNING: Ignoring invalid distribution -illow (c:\\users\\goode\\anaconda3\\envs\\coding\\lib\\site-packages)\n",
      "WARNING: Ignoring invalid distribution -rotobuf (c:\\users\\goode\\anaconda3\\envs\\coding\\lib\\site-packages)\n",
      "WARNING: Ignoring invalid distribution -illow (c:\\users\\goode\\anaconda3\\envs\\coding\\lib\\site-packages)\n",
      "WARNING: Ignoring invalid distribution -rotobuf (c:\\users\\goode\\anaconda3\\envs\\coding\\lib\\site-packages)\n",
      "WARNING: Ignoring invalid distribution -illow (c:\\users\\goode\\anaconda3\\envs\\coding\\lib\\site-packages)\n",
      "WARNING: Ignoring invalid distribution -rotobuf (c:\\users\\goode\\anaconda3\\envs\\coding\\lib\\site-packages)\n",
      "WARNING: Ignoring invalid distribution -illow (c:\\users\\goode\\anaconda3\\envs\\coding\\lib\\site-packages)\n",
      "WARNING: Ignoring invalid distribution -rotobuf (c:\\users\\goode\\anaconda3\\envs\\coding\\lib\\site-packages)\n",
      "WARNING: Ignoring invalid distribution -illow (c:\\users\\goode\\anaconda3\\envs\\coding\\lib\\site-packages)\n",
      "WARNING: Ignoring invalid distribution -rotobuf (c:\\users\\goode\\anaconda3\\envs\\coding\\lib\\site-packages)\n",
      "WARNING: Ignoring invalid distribution -illow (c:\\users\\goode\\anaconda3\\envs\\coding\\lib\\site-packages)\n",
      "WARNING: Ignoring invalid distribution -rotobuf (c:\\users\\goode\\anaconda3\\envs\\coding\\lib\\site-packages)\n",
      "WARNING: Ignoring invalid distribution -illow (c:\\users\\goode\\anaconda3\\envs\\coding\\lib\\site-packages)\n"
     ]
    }
   ],
   "source": [
    "!pip install requests-toolbelt"
   ]
  },
  {
   "cell_type": "code",
   "execution_count": 1,
   "metadata": {},
   "outputs": [
    {
     "name": "stdout",
     "output_type": "stream",
     "text": [
      "\u001b[1;31merror\u001b[0m: \u001b[1mexternally-managed-environment\u001b[0m\n",
      "\n",
      "\u001b[31m×\u001b[0m This environment is externally managed\n",
      "\u001b[31m╰─>\u001b[0m To install Python packages system-wide, try apt install\n",
      "\u001b[31m   \u001b[0m python3-xyz, where xyz is the package you are trying to\n",
      "\u001b[31m   \u001b[0m install.\n",
      "\u001b[31m   \u001b[0m \n",
      "\u001b[31m   \u001b[0m If you wish to install a non-Debian-packaged Python package,\n",
      "\u001b[31m   \u001b[0m create a virtual environment using python3 -m venv path/to/venv.\n",
      "\u001b[31m   \u001b[0m Then use path/to/venv/bin/python and path/to/venv/bin/pip. Make\n",
      "\u001b[31m   \u001b[0m sure you have python3-full installed.\n",
      "\u001b[31m   \u001b[0m \n",
      "\u001b[31m   \u001b[0m If you wish to install a non-Debian packaged Python application,\n",
      "\u001b[31m   \u001b[0m it may be easiest to use pipx install xyz, which will manage a\n",
      "\u001b[31m   \u001b[0m virtual environment for you. Make sure you have pipx installed.\n",
      "\u001b[31m   \u001b[0m \n",
      "\u001b[31m   \u001b[0m See /usr/share/doc/python3.11/README.venv for more information.\n",
      "\n",
      "\u001b[1;35mnote\u001b[0m: If you believe this is a mistake, please contact your Python installation or OS distribution provider. You can override this, at the risk of breaking your Python installation or OS, by passing --break-system-packages.\n",
      "\u001b[1;36mhint\u001b[0m: See PEP 668 for the detailed specification.\n"
     ]
    }
   ],
   "source": [
    "#/bin/python3 -m pip install ipykernel -U --user --force-reinstall\n",
    "!pip install --upgrade pip "
   ]
  },
  {
   "cell_type": "code",
   "execution_count": 5,
   "metadata": {},
   "outputs": [
    {
     "name": "stdout",
     "output_type": "stream",
     "text": [
      "i=0,c=1\n",
      "i=1,c=2\n"
     ]
    }
   ],
   "source": [
    "for i,c in enumerate([1,2]):\n",
    "    print(f'{i=},{c=}')"
   ]
  },
  {
   "cell_type": "code",
   "execution_count": null,
   "metadata": {},
   "outputs": [],
   "source": []
  }
 ],
 "metadata": {
  "kernelspec": {
   "display_name": "Python 3",
   "language": "python",
   "name": "python3"
  },
  "language_info": {
   "codemirror_mode": {
    "name": "ipython",
    "version": 3
   },
   "file_extension": ".py",
   "mimetype": "text/x-python",
   "name": "python",
   "nbconvert_exporter": "python",
   "pygments_lexer": "ipython3",
   "version": "3.11.2"
  }
 },
 "nbformat": 4,
 "nbformat_minor": 2
}
