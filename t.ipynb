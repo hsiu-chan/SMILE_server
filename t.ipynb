{
 "cells": [
  {
   "cell_type": "code",
   "execution_count": 4,
   "metadata": {},
   "outputs": [
    {
     "name": "stdout",
     "output_type": "stream",
     "text": [
      "Collecting Flask==2.2.2 (from -r requirements.txt (line 1))\n",
      "  Using cached Flask-2.2.2-py3-none-any.whl (101 kB)\n",
      "Collecting numpy (from -r requirements.txt (line 2))\n",
      "  Using cached numpy-1.26.3-cp310-cp310-macosx_10_9_x86_64.whl.metadata (61 kB)\n",
      "Collecting Jinja2==3.1.2 (from -r requirements.txt (line 3))\n",
      "  Using cached Jinja2-3.1.2-py3-none-any.whl (133 kB)\n",
      "Collecting Markdown==3.4.1 (from -r requirements.txt (line 4))\n",
      "  Using cached Markdown-3.4.1-py3-none-any.whl (93 kB)\n",
      "Collecting uuid (from -r requirements.txt (line 5))\n",
      "  Using cached uuid-1.30.tar.gz (5.8 kB)\n",
      "  Preparing metadata (setup.py) ... \u001b[?25ldone\n",
      "\u001b[?25hCollecting ultralytics (from -r requirements.txt (line 6))\n",
      "  Using cached ultralytics-8.1.9-py3-none-any.whl.metadata (40 kB)\n",
      "Collecting matplotlib==3.6.2 (from -r requirements.txt (line 7))\n",
      "  Using cached matplotlib-3.6.2-cp310-cp310-macosx_10_12_x86_64.whl (7.3 MB)\n",
      "Collecting Werkzeug==2.2.3 (from -r requirements.txt (line 9))\n",
      "  Using cached Werkzeug-2.2.3-py3-none-any.whl (233 kB)\n",
      "Collecting tensorflow==2.11.0 (from -r requirements.txt (line 10))\n",
      "  Using cached tensorflow-2.11.0-cp310-cp310-macosx_10_14_x86_64.whl (244.3 MB)\n",
      "Collecting opencv-python==4.7.0.68 (from -r requirements.txt (line 11))\n",
      "  Using cached opencv_python-4.7.0.68-cp37-abi3-macosx_10_13_x86_64.whl (51.7 MB)\n",
      "Collecting opencv-contrib-python==4.7.0.68 (from -r requirements.txt (line 12))\n",
      "  Using cached opencv_contrib_python-4.7.0.68-cp37-abi3-macosx_10_13_x86_64.whl (61.3 MB)\n",
      "Collecting mysql-connector-python==8.0.31 (from -r requirements.txt (line 13))\n",
      "  Using cached mysql_connector_python-8.0.31-py2.py3-none-any.whl (352 kB)\n",
      "Collecting torch==2.0.0 (from -r requirements.txt (line 14))\n",
      "  Using cached torch-2.0.0-cp310-none-macosx_10_9_x86_64.whl (139.8 MB)\n",
      "Collecting torchaudio==2.0.1 (from -r requirements.txt (line 15))\n",
      "  Using cached torchaudio-2.0.1-cp310-cp310-macosx_10_9_x86_64.whl (3.9 MB)\n",
      "Collecting torchvision==0.15.1 (from -r requirements.txt (line 16))\n",
      "  Using cached torchvision-0.15.1-cp310-cp310-macosx_10_9_x86_64.whl (1.5 MB)\n",
      "\u001b[31mERROR: Could not find a version that satisfies the requirement mediapipe==0.10.3 (from versions: 0.8.9.1, 0.8.10, 0.8.10.1, 0.8.11, 0.9.0, 0.9.0.1, 0.9.1.0)\u001b[0m\u001b[31m\n",
      "\u001b[0m\u001b[31mERROR: No matching distribution found for mediapipe==0.10.3\u001b[0m\u001b[31m\n",
      "\u001b[0m"
     ]
    }
   ],
   "source": [
    "!pip install -r requirements.txt\n"
   ]
  },
  {
   "cell_type": "code",
   "execution_count": 6,
   "metadata": {},
   "outputs": [
    {
     "name": "stdout",
     "output_type": "stream",
     "text": [
      "Collecting scikit-learn==1.2.0\n",
      "  Downloading scikit_learn-1.2.0-cp310-cp310-macosx_10_9_x86_64.whl (9.0 MB)\n",
      "\u001b[2K     \u001b[90m━━━━━━━━━━━━━━━━━━━━━━━━━━━━━━━━━━━━━━━━\u001b[0m \u001b[32m9.0/9.0 MB\u001b[0m \u001b[31m2.5 MB/s\u001b[0m eta \u001b[36m0:00:00\u001b[0m00:01\u001b[0m00:01\u001b[0m\n",
      "\u001b[?25hRequirement already satisfied: numpy>=1.17.3 in ./.conda/lib/python3.10/site-packages (from scikit-learn==1.2.0) (1.26.3)\n",
      "Requirement already satisfied: scipy>=1.3.2 in ./.conda/lib/python3.10/site-packages (from scikit-learn==1.2.0) (1.12.0)\n",
      "Requirement already satisfied: joblib>=1.1.1 in ./.conda/lib/python3.10/site-packages (from scikit-learn==1.2.0) (1.3.2)\n",
      "Collecting threadpoolctl>=2.0.0 (from scikit-learn==1.2.0)\n",
      "  Downloading threadpoolctl-3.2.0-py3-none-any.whl.metadata (10.0 kB)\n",
      "Downloading threadpoolctl-3.2.0-py3-none-any.whl (15 kB)\n",
      "Installing collected packages: threadpoolctl, scikit-learn\n",
      "Successfully installed scikit-learn-1.2.0 threadpoolctl-3.2.0\n"
     ]
    }
   ],
   "source": [
    "!pip install scikit-learn==1.2.0\n",
    "\n"
   ]
  },
  {
   "cell_type": "code",
   "execution_count": 2,
   "metadata": {},
   "outputs": [],
   "source": [
    "import flask"
   ]
  },
  {
   "cell_type": "code",
   "execution_count": null,
   "metadata": {},
   "outputs": [],
   "source": []
  }
 ],
 "metadata": {
  "kernelspec": {
   "display_name": "Python 3",
   "language": "python",
   "name": "python3"
  },
  "language_info": {
   "codemirror_mode": {
    "name": "ipython",
    "version": 3
   },
   "file_extension": ".py",
   "mimetype": "text/x-python",
   "name": "python",
   "nbconvert_exporter": "python",
   "pygments_lexer": "ipython3",
   "version": "3.1.0"
  }
 },
 "nbformat": 4,
 "nbformat_minor": 2
}
